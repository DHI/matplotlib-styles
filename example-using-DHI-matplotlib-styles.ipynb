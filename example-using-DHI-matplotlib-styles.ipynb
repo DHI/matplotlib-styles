{
 "cells": [
  {
   "cell_type": "markdown",
   "metadata": {},
   "source": [
    "# Use DHI matplotlib styles\n",
    "\n",
    "Matplotlib styles make sure that the figures have a consistent layout and fit nicely into the DHI Report templates. They allow to set the most important properties of a figure with a one-liner, e.g. `plt.style.use(\"DHI\")` will set the following:\n",
    "\n",
    "+ tight layout\n",
    "+ width=15 cm\n",
    "+ axis and label font fitting to DHI body text\n",
    "+ dpi 300\n",
    "\n",
    "the available style can be obtained using the command below. Check that the DHI styles (`DHI`, `DHI-landscape`, `DHI-landscape-A3`, `DHI-portrait`, `DHI-portrait-A3`, `DHI-square`, `DHI-wide`) are available after installation before proceeding."
   ]
  },
  {
   "cell_type": "code",
   "execution_count": 1,
   "metadata": {},
   "outputs": [
    {
     "data": {
      "text/plain": [
       "['DHI',\n",
       " 'DHI-landscape',\n",
       " 'DHI-landscape-A3',\n",
       " 'DHI-portrait',\n",
       " 'DHI-portrait-A3',\n",
       " 'DHI-square',\n",
       " 'DHI-wide',\n",
       " 'Solarize_Light2',\n",
       " '_classic_test_patch',\n",
       " 'bmh',\n",
       " 'classic',\n",
       " 'dark_background',\n",
       " 'fast',\n",
       " 'fivethirtyeight',\n",
       " 'ggplot',\n",
       " 'grayscale',\n",
       " 'seaborn',\n",
       " 'seaborn-bright',\n",
       " 'seaborn-colorblind',\n",
       " 'seaborn-dark',\n",
       " 'seaborn-dark-palette',\n",
       " 'seaborn-darkgrid',\n",
       " 'seaborn-deep',\n",
       " 'seaborn-muted',\n",
       " 'seaborn-notebook',\n",
       " 'seaborn-paper',\n",
       " 'seaborn-pastel',\n",
       " 'seaborn-poster',\n",
       " 'seaborn-talk',\n",
       " 'seaborn-ticks',\n",
       " 'seaborn-white',\n",
       " 'seaborn-whitegrid',\n",
       " 'tableau-colorblind10']"
      ]
     },
     "execution_count": 1,
     "metadata": {},
     "output_type": "execute_result"
    }
   ],
   "source": [
    "import matplotlib.pyplot as plt\n",
    "plt.style.available"
   ]
  },
  {
   "cell_type": "markdown",
   "metadata": {},
   "source": [
    "The command `plt.style.use(<style>)` set the new preset for all consecutive plots:\n"
   ]
  },
  {
   "cell_type": "code",
   "execution_count": 2,
   "metadata": {},
   "outputs": [
    {
     "data": {
      "image/png": "[encoded data removed]",
      "text/plain": [
       "<Figure size 590.55x365 with 1 Axes>"
      ]
     },
     "metadata": {
      "needs_background": "light"
     },
     "output_type": "display_data"
    }
   ],
   "source": [
    "# set the style\n",
    "plt.style.use(\"DHI\")\n",
    "\n",
    "# create a figure\n",
    "plt.plot([0,2,3], [1,0,4], label=\"data\")\n",
    "plt.grid()\n",
    "plt.xlabel(\"x-value\")\n",
    "plt.ylabel(\"y-value\")\n",
    "plt.title(\"chart title\")\n",
    "plt.legend()\n",
    "\n",
    "# save t file\n",
    "plt.savefig(\"./figure.svg\")  # vector graphics have high print qulity but may become large\n",
    "plt.savefig(\"./figure.png\")  # raster images avoid excessive file sizes\n"
   ]
  },
  {
   "cell_type": "markdown",
   "metadata": {},
   "source": [
    "The chart is 15 cm with tight layout and can therefore be easily inserted into the standard DHI template (body text).\n",
    "\n",
    "The following styles are available:\n",
    "\n",
    "+ `DHI` : for body text, width 15 cm (aspect ratio: golden ratio)\n",
    "+ `DHI-square` : for body text, width 15 cm (aspect ratio: square)\n",
    "+ `DHI-wide` : for normal, width 17 cm (aspect ratio: golden ratio)\n",
    "+ `DHI-portrait` : full page figure (allowing for a caption line), portrait orientation \n",
    "+ `DHI-landscape` : full page figure (allowing for a caption line), landscape orientation \n",
    "+ `DHI-landscape-A3`: A3 landscape format, good for appendices\n",
    "+ `DHI-portrait-A3`: A3 portrait format, good for appendices\n"
   ]
  }
 ],
 "metadata": {
  "hide_input": false,
  "kernelspec": {
   "display_name": "py36_dhi",
   "language": "python",
   "name": "py36_dhi"
  },
  "language_info": {
   "codemirror_mode": {
    "name": "ipython",
    "version": 3
   },
   "file_extension": ".py",
   "mimetype": "text/x-python",
   "name": "python",
   "nbconvert_exporter": "python",
   "pygments_lexer": "ipython3",
   "version": "3.6.10"
  },
  "toc": {
   "nav_menu": {},
   "number_sections": true,
   "sideBar": true,
   "skip_h1_title": true,
   "toc_cell": false,
   "toc_position": {},
   "toc_section_display": "block",
   "toc_window_display": false
  },
  "varInspector": {
   "cols": {
    "lenName": 16,
    "lenType": 16,
    "lenVar": 40
   },
   "kernels_config": {
    "python": {
     "delete_cmd_postfix": "",
     "delete_cmd_prefix": "del ",
     "library": "var_list.py",
     "varRefreshCmd": "print(var_dic_list())"
    },
    "r": {
     "delete_cmd_postfix": ") ",
     "delete_cmd_prefix": "rm(",
     "library": "var_list.r",
     "varRefreshCmd": "cat(var_dic_list()) "
    }
   },
   "types_to_exclude": [
    "module",
    "function",
    "builtin_function_or_method",
    "instance",
    "_Feature"
   ],
   "window_display": false
  }
 },
 "nbformat": 4,
 "nbformat_minor": 2
}
